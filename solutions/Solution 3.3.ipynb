{
 "cells": [
  {
   "cell_type": "markdown",
   "id": "7cb2547f",
   "metadata": {},
   "source": [
    "# HW 3.3 (Penalized Regression) Solutions"
   ]
  },
  {
   "cell_type": "code",
   "execution_count": 172,
   "id": "f2361fbd",
   "metadata": {},
   "outputs": [],
   "source": [
    "import pandas as pd\n",
    "import numpy as np\n",
    "import statsmodels.api as sm\n",
    "from sklearn.linear_model import LinearRegression, Lasso, Ridge, LassoCV, RidgeCV\n",
    "\n",
    "import matplotlib.pyplot as plt\n",
    "import seaborn as sns"
   ]
  },
  {
   "cell_type": "code",
   "execution_count": 173,
   "id": "71dca963",
   "metadata": {},
   "outputs": [],
   "source": [
    "rets_sp500 = pd.read_excel('hw_3_3_data.xlsx', sheet_name=2, index_col=0)\n",
    "rets_gld = pd.read_excel('hw_3_3_data.xlsx', sheet_name=3, index_col=0)[['GLD']]"
   ]
  },
  {
   "cell_type": "markdown",
   "id": "03e7c46a",
   "metadata": {},
   "source": [
    "### 1)\n",
    "\n",
    "a."
   ]
  },
  {
   "cell_type": "code",
   "execution_count": 174,
   "id": "a6c4915e",
   "metadata": {
    "scrolled": false
   },
   "outputs": [
    {
     "data": {
      "text/html": [
       "<div>\n",
       "<style scoped>\n",
       "    .dataframe tbody tr th:only-of-type {\n",
       "        vertical-align: middle;\n",
       "    }\n",
       "\n",
       "    .dataframe tbody tr th {\n",
       "        vertical-align: top;\n",
       "    }\n",
       "\n",
       "    .dataframe thead th {\n",
       "        text-align: right;\n",
       "    }\n",
       "</style>\n",
       "<table border=\"1\" class=\"dataframe\">\n",
       "  <thead>\n",
       "    <tr style=\"text-align: right;\">\n",
       "      <th></th>\n",
       "      <th>Beta</th>\n",
       "    </tr>\n",
       "  </thead>\n",
       "  <tbody>\n",
       "    <tr>\n",
       "      <th>A</th>\n",
       "      <td>0.065344</td>\n",
       "    </tr>\n",
       "    <tr>\n",
       "      <th>AAP</th>\n",
       "      <td>-0.030014</td>\n",
       "    </tr>\n",
       "    <tr>\n",
       "      <th>AAPL</th>\n",
       "      <td>-0.089102</td>\n",
       "    </tr>\n",
       "    <tr>\n",
       "      <th>ABC</th>\n",
       "      <td>-0.042315</td>\n",
       "    </tr>\n",
       "    <tr>\n",
       "      <th>ABT</th>\n",
       "      <td>0.075335</td>\n",
       "    </tr>\n",
       "    <tr>\n",
       "      <th>...</th>\n",
       "      <td>...</td>\n",
       "    </tr>\n",
       "    <tr>\n",
       "      <th>XYL</th>\n",
       "      <td>0.028848</td>\n",
       "    </tr>\n",
       "    <tr>\n",
       "      <th>YUM</th>\n",
       "      <td>-0.011571</td>\n",
       "    </tr>\n",
       "    <tr>\n",
       "      <th>ZBH</th>\n",
       "      <td>0.005700</td>\n",
       "    </tr>\n",
       "    <tr>\n",
       "      <th>ZBRA</th>\n",
       "      <td>0.054676</td>\n",
       "    </tr>\n",
       "    <tr>\n",
       "      <th>ZION</th>\n",
       "      <td>0.008020</td>\n",
       "    </tr>\n",
       "  </tbody>\n",
       "</table>\n",
       "<p>451 rows × 1 columns</p>\n",
       "</div>"
      ],
      "text/plain": [
       "          Beta\n",
       "A     0.065344\n",
       "AAP  -0.030014\n",
       "AAPL -0.089102\n",
       "ABC  -0.042315\n",
       "ABT   0.075335\n",
       "...        ...\n",
       "XYL   0.028848\n",
       "YUM  -0.011571\n",
       "ZBH   0.005700\n",
       "ZBRA  0.054676\n",
       "ZION  0.008020\n",
       "\n",
       "[451 rows x 1 columns]"
      ]
     },
     "execution_count": 174,
     "metadata": {},
     "output_type": "execute_result"
    }
   ],
   "source": [
    "ols_model = sm.OLS(rets_gld, sm.add_constant(rets_sp500)).fit()\n",
    "\n",
    "# Coefficients\n",
    "coef_ols = ols_model.params[1:].to_frame('Beta')\n",
    "coef_ols"
   ]
  },
  {
   "cell_type": "markdown",
   "id": "f03e62cd",
   "metadata": {},
   "source": [
    "b."
   ]
  },
  {
   "cell_type": "code",
   "execution_count": 175,
   "id": "c4445c29",
   "metadata": {},
   "outputs": [
    {
     "data": {
      "text/plain": [
       "1.0"
      ]
     },
     "execution_count": 175,
     "metadata": {},
     "output_type": "execute_result"
    }
   ],
   "source": [
    "# R-Squared\n",
    "ols_model.rsquared"
   ]
  },
  {
   "cell_type": "markdown",
   "id": "9e31285d",
   "metadata": {},
   "source": [
    "c."
   ]
  },
  {
   "cell_type": "code",
   "execution_count": 176,
   "id": "a48beb46",
   "metadata": {},
   "outputs": [
    {
     "data": {
      "text/plain": [
       "NEM     0.159891\n",
       "XOM    -0.152576\n",
       "PM      0.134019\n",
       "USB     0.132334\n",
       "MSFT   -0.132020\n",
       "dtype: float64"
      ]
     },
     "execution_count": 176,
     "metadata": {},
     "output_type": "execute_result"
    }
   ],
   "source": [
    "ols_model.params.loc[lambda x: x.abs().nlargest(5).index]"
   ]
  },
  {
   "cell_type": "markdown",
   "id": "3318cb7d",
   "metadata": {},
   "source": [
    "d."
   ]
  },
  {
   "cell_type": "code",
   "execution_count": 177,
   "id": "56f5820b",
   "metadata": {},
   "outputs": [
    {
     "data": {
      "text/plain": [
       "NEM    0.007798\n",
       "UAL   -0.006702\n",
       "XOM   -0.005969\n",
       "PHM    0.005465\n",
       "SPG    0.005242\n",
       "dtype: float64"
      ]
     },
     "execution_count": 177,
     "metadata": {},
     "output_type": "execute_result"
    }
   ],
   "source": [
    "sigma_beta_ols = rets.std() * coef_ols['Beta']\n",
    "\n",
    "sigma_beta_ols.loc[lambda x: x.abs().nlargest(5).index]"
   ]
  },
  {
   "cell_type": "markdown",
   "id": "76ce2289",
   "metadata": {},
   "source": [
    "Scaling by $\\sigma_j$ allows us to have a more useful comparison between regression coefficients. In doing so, we find the largest (in magnitude) of the coefficients, and thus the most influential regressor, is NEM. \n",
    "\n",
    "e."
   ]
  },
  {
   "cell_type": "code",
   "execution_count": 178,
   "id": "589a7395",
   "metadata": {},
   "outputs": [
    {
     "data": {
      "text/plain": [
       "8.842269813227102e+18"
      ]
     },
     "execution_count": 178,
     "metadata": {},
     "output_type": "execute_result"
    }
   ],
   "source": [
    "# Excluding intercept\n",
    "np.linalg.cond(rets_sp500.T @ rets_sp500)"
   ]
  },
  {
   "cell_type": "code",
   "execution_count": 179,
   "id": "fbacad53",
   "metadata": {},
   "outputs": [
    {
     "data": {
      "text/plain": [
       "1.1396384163374816e+20"
      ]
     },
     "execution_count": 179,
     "metadata": {},
     "output_type": "execute_result"
    }
   ],
   "source": [
    "# Including intercept\n",
    "np.linalg.cond(sm.add_constant(rets_sp500).T @ sm.add_constant(rets_sp500))"
   ]
  },
  {
   "cell_type": "markdown",
   "id": "a6c0cc8e",
   "metadata": {},
   "source": [
    "A large condition number should give us pause as it indicates that very small change in the inputs to our training data would yield very large changes in our model's fitted parameters. In the case of linear regression, a high condition number raises concerns about multicollinearity, which can easily distort both the interpretation of coefficients and their out-of-sample performance. The condition numbers produced here are extremely large."
   ]
  },
  {
   "cell_type": "markdown",
   "id": "a4a33942",
   "metadata": {},
   "source": [
    "2)\n",
    "\n",
    "a."
   ]
  },
  {
   "cell_type": "code",
   "execution_count": 180,
   "id": "c9f21fbd",
   "metadata": {},
   "outputs": [
    {
     "data": {
      "text/html": [
       "<div>\n",
       "<style scoped>\n",
       "    .dataframe tbody tr th:only-of-type {\n",
       "        vertical-align: middle;\n",
       "    }\n",
       "\n",
       "    .dataframe tbody tr th {\n",
       "        vertical-align: top;\n",
       "    }\n",
       "\n",
       "    .dataframe thead th {\n",
       "        text-align: right;\n",
       "    }\n",
       "</style>\n",
       "<table border=\"1\" class=\"dataframe\">\n",
       "  <thead>\n",
       "    <tr style=\"text-align: right;\">\n",
       "      <th></th>\n",
       "      <th>Beta</th>\n",
       "    </tr>\n",
       "  </thead>\n",
       "  <tbody>\n",
       "    <tr>\n",
       "      <th>A</th>\n",
       "      <td>0.013014</td>\n",
       "    </tr>\n",
       "    <tr>\n",
       "      <th>AAP</th>\n",
       "      <td>-0.013048</td>\n",
       "    </tr>\n",
       "    <tr>\n",
       "      <th>AAPL</th>\n",
       "      <td>-0.005152</td>\n",
       "    </tr>\n",
       "    <tr>\n",
       "      <th>ABC</th>\n",
       "      <td>-0.005360</td>\n",
       "    </tr>\n",
       "    <tr>\n",
       "      <th>ABT</th>\n",
       "      <td>0.001704</td>\n",
       "    </tr>\n",
       "    <tr>\n",
       "      <th>...</th>\n",
       "      <td>...</td>\n",
       "    </tr>\n",
       "    <tr>\n",
       "      <th>XYL</th>\n",
       "      <td>0.004060</td>\n",
       "    </tr>\n",
       "    <tr>\n",
       "      <th>YUM</th>\n",
       "      <td>0.001713</td>\n",
       "    </tr>\n",
       "    <tr>\n",
       "      <th>ZBH</th>\n",
       "      <td>-0.005478</td>\n",
       "    </tr>\n",
       "    <tr>\n",
       "      <th>ZBRA</th>\n",
       "      <td>0.001794</td>\n",
       "    </tr>\n",
       "    <tr>\n",
       "      <th>ZION</th>\n",
       "      <td>0.005583</td>\n",
       "    </tr>\n",
       "  </tbody>\n",
       "</table>\n",
       "<p>451 rows × 1 columns</p>\n",
       "</div>"
      ],
      "text/plain": [
       "          Beta\n",
       "A     0.013014\n",
       "AAP  -0.013048\n",
       "AAPL -0.005152\n",
       "ABC  -0.005360\n",
       "ABT   0.001704\n",
       "...        ...\n",
       "XYL   0.004060\n",
       "YUM   0.001713\n",
       "ZBH  -0.005478\n",
       "ZBRA  0.001794\n",
       "ZION  0.005583\n",
       "\n",
       "[451 rows x 1 columns]"
      ]
     },
     "execution_count": 180,
     "metadata": {},
     "output_type": "execute_result"
    }
   ],
   "source": [
    "model_Ridge = Ridge(alpha=0.5, fit_intercept=True).fit(rets_sp500, rets_gld)\n",
    "\n",
    "coef_ridge = pd.DataFrame(data=model_Ridge.coef_.reshape(451), index=rets_sp500.columns, columns=['Beta'])\n",
    "coef_ridge"
   ]
  },
  {
   "cell_type": "markdown",
   "id": "6527ce8d",
   "metadata": {},
   "source": [
    "b."
   ]
  },
  {
   "cell_type": "code",
   "execution_count": 181,
   "id": "c92f4974",
   "metadata": {},
   "outputs": [
    {
     "data": {
      "text/plain": [
       "0.7622443309155418"
      ]
     },
     "execution_count": 181,
     "metadata": {},
     "output_type": "execute_result"
    }
   ],
   "source": [
    "model_Ridge.score(rets_sp500, rets_gld)"
   ]
  },
  {
   "cell_type": "markdown",
   "id": "45063aae",
   "metadata": {},
   "source": [
    "b."
   ]
  },
  {
   "cell_type": "code",
   "execution_count": 182,
   "id": "388b4d3b",
   "metadata": {},
   "outputs": [
    {
     "data": {
      "text/plain": [
       "NEM     0.005137\n",
       "FCX     0.002314\n",
       "ENPH    0.002027\n",
       "SCHW   -0.001656\n",
       "RHI    -0.001149\n",
       "dtype: float64"
      ]
     },
     "execution_count": 182,
     "metadata": {},
     "output_type": "execute_result"
    }
   ],
   "source": [
    "sigma_beta_ridge = rets.std() * coef_ridge['Beta']\n",
    "\n",
    "sigma_beta_ridge.loc[lambda x: x.abs().nlargest(5).index]"
   ]
  },
  {
   "cell_type": "markdown",
   "id": "c70dbb25",
   "metadata": {},
   "source": [
    "We find that NEM again seems to be most influential."
   ]
  },
  {
   "cell_type": "markdown",
   "id": "0a44594f",
   "metadata": {},
   "source": [
    "3)"
   ]
  },
  {
   "cell_type": "markdown",
   "id": "2673a6e6",
   "metadata": {},
   "source": [
    "a."
   ]
  },
  {
   "cell_type": "code",
   "execution_count": 183,
   "id": "a89abe12",
   "metadata": {},
   "outputs": [
    {
     "data": {
      "text/html": [
       "<div>\n",
       "<style scoped>\n",
       "    .dataframe tbody tr th:only-of-type {\n",
       "        vertical-align: middle;\n",
       "    }\n",
       "\n",
       "    .dataframe tbody tr th {\n",
       "        vertical-align: top;\n",
       "    }\n",
       "\n",
       "    .dataframe thead th {\n",
       "        text-align: right;\n",
       "    }\n",
       "</style>\n",
       "<table border=\"1\" class=\"dataframe\">\n",
       "  <thead>\n",
       "    <tr style=\"text-align: right;\">\n",
       "      <th></th>\n",
       "      <th>Beta</th>\n",
       "    </tr>\n",
       "  </thead>\n",
       "  <tbody>\n",
       "    <tr>\n",
       "      <th>A</th>\n",
       "      <td>0.011062</td>\n",
       "    </tr>\n",
       "    <tr>\n",
       "      <th>AAP</th>\n",
       "      <td>-0.001673</td>\n",
       "    </tr>\n",
       "    <tr>\n",
       "      <th>AAPL</th>\n",
       "      <td>-0.000000</td>\n",
       "    </tr>\n",
       "    <tr>\n",
       "      <th>ABC</th>\n",
       "      <td>-0.001622</td>\n",
       "    </tr>\n",
       "    <tr>\n",
       "      <th>ABT</th>\n",
       "      <td>0.000000</td>\n",
       "    </tr>\n",
       "    <tr>\n",
       "      <th>...</th>\n",
       "      <td>...</td>\n",
       "    </tr>\n",
       "    <tr>\n",
       "      <th>XYL</th>\n",
       "      <td>0.000000</td>\n",
       "    </tr>\n",
       "    <tr>\n",
       "      <th>YUM</th>\n",
       "      <td>-0.000000</td>\n",
       "    </tr>\n",
       "    <tr>\n",
       "      <th>ZBH</th>\n",
       "      <td>-0.000000</td>\n",
       "    </tr>\n",
       "    <tr>\n",
       "      <th>ZBRA</th>\n",
       "      <td>-0.000000</td>\n",
       "    </tr>\n",
       "    <tr>\n",
       "      <th>ZION</th>\n",
       "      <td>0.000000</td>\n",
       "    </tr>\n",
       "  </tbody>\n",
       "</table>\n",
       "<p>451 rows × 1 columns</p>\n",
       "</div>"
      ],
      "text/plain": [
       "          Beta\n",
       "A     0.011062\n",
       "AAP  -0.001673\n",
       "AAPL -0.000000\n",
       "ABC  -0.001622\n",
       "ABT   0.000000\n",
       "...        ...\n",
       "XYL   0.000000\n",
       "YUM  -0.000000\n",
       "ZBH  -0.000000\n",
       "ZBRA -0.000000\n",
       "ZION  0.000000\n",
       "\n",
       "[451 rows x 1 columns]"
      ]
     },
     "execution_count": 183,
     "metadata": {},
     "output_type": "execute_result"
    }
   ],
   "source": [
    "model_Lasso = Lasso(alpha=2e-5, fit_intercept=True).fit(rets_sp500, rets_gld)\n",
    "\n",
    "coef_lasso = pd.DataFrame(data=model_Lasso.coef_.reshape(451), index=rets_sp500.columns, columns=['Beta'])\n",
    "coef_lasso"
   ]
  },
  {
   "cell_type": "markdown",
   "id": "ce198966",
   "metadata": {},
   "source": [
    "b."
   ]
  },
  {
   "cell_type": "code",
   "execution_count": 184,
   "id": "b4757c12",
   "metadata": {},
   "outputs": [
    {
     "data": {
      "text/plain": [
       "0.7541466465557553"
      ]
     },
     "execution_count": 184,
     "metadata": {},
     "output_type": "execute_result"
    }
   ],
   "source": [
    "model_Lasso.score(rets_sp500, rets_gld)"
   ]
  },
  {
   "cell_type": "markdown",
   "id": "e164c0ca",
   "metadata": {},
   "source": [
    "c."
   ]
  },
  {
   "cell_type": "code",
   "execution_count": 185,
   "id": "4f0e59f3",
   "metadata": {},
   "outputs": [
    {
     "data": {
      "text/plain": [
       "NEM     0.011329\n",
       "SCHW   -0.002511\n",
       "O       0.002376\n",
       "RJF    -0.002057\n",
       "SLB     0.001808\n",
       "dtype: float64"
      ]
     },
     "execution_count": 185,
     "metadata": {},
     "output_type": "execute_result"
    }
   ],
   "source": [
    "sigma_beta_lasso = rets.std() * coef_lasso['Beta']\n",
    "\n",
    "sigma_beta_lasso.loc[lambda x: x.abs().nlargest(5).index]"
   ]
  },
  {
   "cell_type": "markdown",
   "id": "84cd9b34",
   "metadata": {},
   "source": [
    "NEM is the largest coefficient, and is significantly larger than even the second largest coefficient."
   ]
  },
  {
   "cell_type": "markdown",
   "id": "baa234d0",
   "metadata": {},
   "source": [
    "d."
   ]
  },
  {
   "cell_type": "code",
   "execution_count": 186,
   "id": "85307c47",
   "metadata": {},
   "outputs": [
    {
     "data": {
      "text/plain": [
       "75"
      ]
     },
     "execution_count": 186,
     "metadata": {},
     "output_type": "execute_result"
    }
   ],
   "source": [
    "(coef_lasso != 0).sum()[0]"
   ]
  },
  {
   "cell_type": "markdown",
   "id": "8042abf5",
   "metadata": {},
   "source": [
    "4)\n",
    "\n",
    "a."
   ]
  },
  {
   "cell_type": "code",
   "execution_count": 187,
   "id": "69637660",
   "metadata": {},
   "outputs": [
    {
     "data": {
      "text/plain": [
       "<AxesSubplot:title={'center':'OLS Coefficients'}, ylabel='Frequency'>"
      ]
     },
     "execution_count": 187,
     "metadata": {},
     "output_type": "execute_result"
    },
    {
     "data": {
      "image/png": "[encoded data removed]",
      "text/plain": [
       "<Figure size 864x360 with 1 Axes>"
      ]
     },
     "metadata": {
      "needs_background": "light"
     },
     "output_type": "display_data"
    }
   ],
   "source": [
    "coef_ols.plot(kind='hist', bins=50, figsize=(12, 5), title='OLS Coefficients')"
   ]
  },
  {
   "cell_type": "code",
   "execution_count": 188,
   "id": "caa3cd1c",
   "metadata": {},
   "outputs": [
    {
     "data": {
      "text/plain": [
       "<AxesSubplot:title={'center':'Ridge Coefficients'}, ylabel='Frequency'>"
      ]
     },
     "execution_count": 188,
     "metadata": {},
     "output_type": "execute_result"
    },
    {
     "data": {
      "image/png": "[encoded data removed]",
      "text/plain": [
       "<Figure size 864x360 with 1 Axes>"
      ]
     },
     "metadata": {
      "needs_background": "light"
     },
     "output_type": "display_data"
    }
   ],
   "source": [
    "coef_ridge.plot(kind='hist', bins=50, figsize=(12, 5), title='Ridge Coefficients')"
   ]
  },
  {
   "cell_type": "code",
   "execution_count": 189,
   "id": "60a17fb0",
   "metadata": {},
   "outputs": [
    {
     "data": {
      "text/plain": [
       "<AxesSubplot:title={'center':'Lasso Coefficients'}, ylabel='Frequency'>"
      ]
     },
     "execution_count": 189,
     "metadata": {},
     "output_type": "execute_result"
    },
    {
     "data": {
      "image/png": "[encoded data removed]",
      "text/plain": [
       "<Figure size 864x360 with 1 Axes>"
      ]
     },
     "metadata": {
      "needs_background": "light"
     },
     "output_type": "display_data"
    }
   ],
   "source": [
    "coef_lasso.plot(kind='hist', bins=50, figsize=(12, 5), title='Lasso Coefficients')"
   ]
  },
  {
   "cell_type": "markdown",
   "id": "d735fb6a",
   "metadata": {},
   "source": [
    "Immediately, it is quite clear that the penalized regressions (Lasso and Ridge) have notably smaller coefficients in general. It is also clear that the penalized regressions tend to push many coefficients towards 0, but some get pushed away from 0. This reflects the notion that the penalties serve to give more \"responsibility\" to certain regressors.\n",
    "\n",
    "Unsurprisingly, all 3 models had coefficients distributed near 0, with Lasso having a significant proportion of them being equal to 0."
   ]
  },
  {
   "cell_type": "markdown",
   "id": "68aa5e27",
   "metadata": {},
   "source": [
    "b.\n",
    "\n",
    "From above, we found that OLS had the largest r-squared, which is entirely unsurprising given that this is referring to *in sample* performance. OLS was given far more \"power\" to fit the training data."
   ]
  },
  {
   "cell_type": "markdown",
   "id": "fc5531b3",
   "metadata": {},
   "source": [
    "5)"
   ]
  },
  {
   "cell_type": "code",
   "execution_count": 190,
   "id": "626ec5bd",
   "metadata": {},
   "outputs": [],
   "source": [
    "model_ridge_cv = RidgeCV().fit(rets_sp500, np.ravel(rets_gld))"
   ]
  },
  {
   "cell_type": "code",
   "execution_count": 191,
   "id": "eed107aa",
   "metadata": {},
   "outputs": [
    {
     "data": {
      "text/plain": [
       "0.1"
      ]
     },
     "execution_count": 191,
     "metadata": {},
     "output_type": "execute_result"
    }
   ],
   "source": [
    "model_ridge_cv.alpha_"
   ]
  },
  {
   "cell_type": "code",
   "execution_count": 192,
   "id": "9e8563a3",
   "metadata": {},
   "outputs": [],
   "source": [
    "model_lasso_cv = LassoCV(max_iter=1e6).fit(rets_sp500, np.ravel(rets_gld))"
   ]
  },
  {
   "cell_type": "code",
   "execution_count": 193,
   "id": "210a0fc7",
   "metadata": {},
   "outputs": [
    {
     "data": {
      "text/plain": [
       "4.555415661524658e-05"
      ]
     },
     "execution_count": 193,
     "metadata": {},
     "output_type": "execute_result"
    }
   ],
   "source": [
    "model_lasso_cv.alpha_"
   ]
  },
  {
   "cell_type": "markdown",
   "id": "92879e6c",
   "metadata": {},
   "source": [
    "6)"
   ]
  },
  {
   "cell_type": "code",
   "execution_count": 194,
   "id": "4a1c52c9",
   "metadata": {},
   "outputs": [],
   "source": [
    "train_X = rets_sp500.loc[:'2020']\n",
    "train_y = rets_gld.loc[:'2020']\n",
    "\n",
    "test_X = rets_sp500.loc['2021':]\n",
    "test_y = rets_gld.loc['2021':]"
   ]
  },
  {
   "cell_type": "code",
   "execution_count": 195,
   "id": "bc5b1fe3",
   "metadata": {},
   "outputs": [],
   "source": [
    "ols_is = LinearRegression().fit(train_X, train_y)\n",
    "ridge_is = Ridge(alpha=model_ridge_cv.alpha_).fit(train_X, train_y)\n",
    "lasso_is = Lasso(alpha=model_lasso_cv.alpha_).fit(train_X, train_y)"
   ]
  },
  {
   "cell_type": "code",
   "execution_count": 196,
   "id": "06a895e7",
   "metadata": {},
   "outputs": [
    {
     "data": {
      "text/plain": [
       "-0.5371417699641157"
      ]
     },
     "execution_count": 196,
     "metadata": {},
     "output_type": "execute_result"
    }
   ],
   "source": [
    "# OLS OOS R-Squared\n",
    "ols_is.score(test_X, test_y)"
   ]
  },
  {
   "cell_type": "code",
   "execution_count": 197,
   "id": "6bb5fe57",
   "metadata": {},
   "outputs": [
    {
     "data": {
      "text/plain": [
       "0.3240521312484793"
      ]
     },
     "execution_count": 197,
     "metadata": {},
     "output_type": "execute_result"
    }
   ],
   "source": [
    "# Ridge OOS R-Squared\n",
    "ridge_is.score(test_X, test_y)"
   ]
  },
  {
   "cell_type": "code",
   "execution_count": 198,
   "id": "96d577d3",
   "metadata": {},
   "outputs": [
    {
     "data": {
      "text/plain": [
       "0.4878444799760193"
      ]
     },
     "execution_count": 198,
     "metadata": {},
     "output_type": "execute_result"
    }
   ],
   "source": [
    "# Lasso OOS R-Squared\n",
    "lasso_is.score(test_X, test_y)"
   ]
  },
  {
   "cell_type": "markdown",
   "id": "f9c5a1ab",
   "metadata": {},
   "source": [
    "As demonstrated by the out of sample r-squared values, OLS performs far worse than does penalized regression. In fact, both Lasso and Ridge perform far better than the null model. Given more penalty values in our cross-validation for Ridge (instead of the default scikit-learn parameters), we may be better able to compare Lasso and Ridge. In general, however, it is important to remember that the \"optimal\" penalties found in part 5 were calculated using the test sample, which gives rise to some lookahead bias."
   ]
  }
 ],
 "metadata": {
  "hide_input": false,
  "kernelspec": {
   "display_name": "Python 3",
   "language": "python",
   "name": "python3"
  },
  "language_info": {
   "codemirror_mode": {
    "name": "ipython",
    "version": 3
   },
   "file_extension": ".py",
   "mimetype": "text/x-python",
   "name": "python",
   "nbconvert_exporter": "python",
   "pygments_lexer": "ipython3",
   "version": "3.9.7"
  }
 },
 "nbformat": 4,
 "nbformat_minor": 5
}
